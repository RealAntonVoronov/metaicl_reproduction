{
 "cells": [
  {
   "cell_type": "code",
   "execution_count": 1,
   "id": "87f47467-cc9a-4a15-9107-67811717a48c",
   "metadata": {},
   "outputs": [
    {
     "name": "stdout",
     "output_type": "stream",
     "text": [
      "Looking in indexes: https://pypi.yandex-team.ru/simple/\n",
      "Collecting nirvana_api\n",
      "  Downloading https://pypi.yandex-team.ru/repo/default/download/nirvana-api/1358221/nirvana-api-2.5.0.post13470917.tar.gz\n",
      "\u001b[2K     \u001b[32m-\u001b[0m \u001b[32m32.6 kB\u001b[0m \u001b[31m85.1 MB/s\u001b[0m \u001b[33m0:00:00\u001b[0m\n",
      "\u001b[?25h  Preparing metadata (setup.py) ... \u001b[?25ldone\n",
      "\u001b[?25hCollecting vh\n",
      "  Downloading https://pypi.yandex-team.ru/repo/default/download/vh/1160765/vh-0.9.5-py3-none-any.whl\n",
      "\u001b[2K     \u001b[32m-\u001b[0m \u001b[32m1.5 MB\u001b[0m \u001b[31m30.5 MB/s\u001b[0m \u001b[33m0:00:00\u001b[0m0m\n",
      "\u001b[?25hCollecting graphviz (from nirvana_api)\n",
      "  Downloading https://pypi.yandex-team.ru/repo/default/download/graphviz/1055470/graphviz-0.20.1-py3-none-any.whl (47 kB)\n",
      "\u001b[2K     \u001b[90m━━━━━━━━━━━━━━━━━━━━━━━━━━━━━━━━━━━━━━━━\u001b[0m \u001b[32m47.0/47.0 kB\u001b[0m \u001b[31m31.3 MB/s\u001b[0m eta \u001b[36m0:00:00\u001b[0m\n",
      "\u001b[?25hRequirement already satisfied: requests in /home/notantonvoron/anaconda3/envs/metaicl/lib/python3.8/site-packages (from nirvana_api) (2.31.0)\n",
      "Requirement already satisfied: six in /home/notantonvoron/anaconda3/envs/metaicl/lib/python3.8/site-packages (from nirvana_api) (1.16.0)\n",
      "Requirement already satisfied: attrs in /home/notantonvoron/anaconda3/envs/metaicl/lib/python3.8/site-packages (from vh) (23.1.0)\n",
      "Collecting frozendict (from vh)\n",
      "  Downloading https://pypi.yandex-team.ru/repo/default/download/frozendict/1335812/frozendict-2.4.0-cp38-cp38-manylinux_2_17_x86_64.manylinux2014_x86_64.whl (114 kB)\n",
      "\u001b[2K     \u001b[90m━━━━━━━━━━━━━━━━━━━━━━━━━━━━━━━━━━━━━━\u001b[0m \u001b[32m114.5/114.5 kB\u001b[0m \u001b[31m96.5 MB/s\u001b[0m eta \u001b[36m0:00:00\u001b[0m\n",
      "\u001b[?25hRequirement already satisfied: pygments in /home/notantonvoron/anaconda3/envs/metaicl/lib/python3.8/site-packages (from vh) (2.15.1)\n",
      "Collecting yandex-yt (from vh)\n",
      "  Downloading https://pypi.yandex-team.ru/repo/default/download/yandex-yt/1277399/yandex_yt-0.13.1-py2.py3-none-any.whl\n",
      "\u001b[2K     \u001b[32m-\u001b[0m \u001b[32m1.5 MB\u001b[0m \u001b[31m29.1 MB/s\u001b[0m \u001b[33m0:00:00\u001b[0m0m\n",
      "\u001b[?25hCollecting pytest (from vh)\n",
      "  Downloading https://pypi.yandex-team.ru/repo/default/download/pytest/1349023/pytest-8.0.0-py3-none-any.whl (334 kB)\n",
      "\u001b[2K     \u001b[90m━━━━━━━━━━━━━━━━━━━━━━━━━━━━━━━━━━━━━━\u001b[0m \u001b[32m334.0/334.0 kB\u001b[0m \u001b[31m26.4 MB/s\u001b[0m eta \u001b[36m0:00:00\u001b[0m\n",
      "\u001b[?25hCollecting iniconfig (from pytest->vh)\n",
      "  Downloading https://pypi.yandex-team.ru/repo/default/download/iniconfig/1136296/iniconfig-2.0.0-py3-none-any.whl (5.9 kB)\n",
      "Requirement already satisfied: packaging in /home/notantonvoron/anaconda3/envs/metaicl/lib/python3.8/site-packages (from pytest->vh) (23.1)\n",
      "Collecting pluggy<2.0,>=1.3.0 (from pytest->vh)\n",
      "  Downloading https://pypi.yandex-team.ru/repo/default/download/pluggy/1347336/pluggy-1.4.0-py3-none-any.whl (20 kB)\n",
      "Collecting exceptiongroup>=1.0.0rc8 (from pytest->vh)\n",
      "  Downloading https://pypi.yandex-team.ru/repo/default/download/exceptiongroup/1315199/exceptiongroup-1.2.0-py3-none-any.whl (16 kB)\n",
      "Requirement already satisfied: tomli>=1.0.0 in /home/notantonvoron/anaconda3/envs/metaicl/lib/python3.8/site-packages (from pytest->vh) (2.0.1)\n",
      "Requirement already satisfied: charset-normalizer<4,>=2 in /home/notantonvoron/anaconda3/envs/metaicl/lib/python3.8/site-packages (from requests->nirvana_api) (2.0.4)\n",
      "Requirement already satisfied: idna<4,>=2.5 in /home/notantonvoron/anaconda3/envs/metaicl/lib/python3.8/site-packages (from requests->nirvana_api) (3.4)\n",
      "Requirement already satisfied: urllib3<3,>=1.21.1 in /home/notantonvoron/anaconda3/envs/metaicl/lib/python3.8/site-packages (from requests->nirvana_api) (1.26.18)\n",
      "Requirement already satisfied: certifi>=2017.4.17 in /home/notantonvoron/anaconda3/envs/metaicl/lib/python3.8/site-packages (from requests->nirvana_api) (2023.11.17)\n",
      "Building wheels for collected packages: nirvana_api\n",
      "  Building wheel for nirvana_api (setup.py) ... \u001b[?25ldone\n",
      "\u001b[?25h  Created wheel for nirvana_api: filename=nirvana_api-2.5.0.post13470917-py3-none-any.whl size=39751 sha256=ca4ac94913a84994a6bb9134a6dfa4d775f5a2fccc3c6c7a356d43fa902f377e\n",
      "  Stored in directory: /home/notantonvoron/.cache/pip/wheels/49/31/99/8e77f5c23758471034828613dae939b392911c5aadbdb8454b\n",
      "Successfully built nirvana_api\n",
      "Installing collected packages: yandex-yt, pluggy, iniconfig, graphviz, frozendict, exceptiongroup, pytest, nirvana_api, vh\n",
      "Successfully installed exceptiongroup-1.2.0 frozendict-2.4.0 graphviz-0.20.1 iniconfig-2.0.0 nirvana_api-2.5.0.post13470917 pluggy-1.4.0 pytest-8.0.0 vh-0.9.5 yandex-yt-0.13.1\n"
     ]
    }
   ],
   "source": [
    "!pip3 install nirvana_api vh"
   ]
  },
  {
   "cell_type": "code",
   "execution_count": 2,
   "id": "23c0346a-00c1-4751-8436-44a91f7931a3",
   "metadata": {},
   "outputs": [
    {
     "name": "stdout",
     "output_type": "stream",
     "text": [
      "env: REQUESTS_CA_BUNDLE=/usr/local/share/ca-certificates/YandexInternalRootCA.crt\n"
     ]
    }
   ],
   "source": [
    "%reload_ext autoreload\n",
    "%autoreload 2\n",
    "%env REQUESTS_CA_BUNDLE=/usr/local/share/ca-certificates/YandexInternalRootCA.crt"
   ]
  },
  {
   "cell_type": "code",
   "execution_count": 8,
   "id": "987e3285-6d09-45c2-810c-2540cc42ecc1",
   "metadata": {},
   "outputs": [],
   "source": [
    "import nirvana_api\n",
    "import vh\n",
    "\n",
    "\n",
    "def run_graph(\n",
    "    workflow_guid,\n",
    "    comment,\n",
    "    priority,\n",
    "    nirvana_token,\n",
    "    ssh_secret,\n",
    "    code_to_run,\n",
    "    gpu_count=1,\n",
    "):\n",
    "    with vh.Graph() as g:\n",
    "        NIRVANA_API = nirvana_api.NirvanaApi(nirvana_token, ssl_verify=False)\n",
    "\n",
    "        clone = vh.op(id=\"a918d982-9a42-4519-884b-f8759e41dc08\")\n",
    "\n",
    "        clone_res = clone(\n",
    "            repo=\"git@github.com:RealAntonVoronov/metaicl_reproduction.git\",\n",
    "            folder_name=\"MetaICL\",\n",
    "            commit_or_branch=\"fixes_and_logging\",\n",
    "            key=ssh_secret,\n",
    "        )\n",
    "        \n",
    "        data = vh.data(id='a3a83880-9b4e-4dfe-8f6e-f363fe86451a', quota='yr-other')\n",
    "        volume = vh.data(id='20eeb072-1690-4b13-86fb-52986a0253e7', quota='yr-other')\n",
    "            \n",
    "        pydl_op = vh.op(id='6f51349b-2206-41a4-ab2b-e5767502d6bf')\n",
    "\n",
    "        pydl_op(\n",
    "            _inputs=dict(\n",
    "                volume=volume, script=clone_res, data=data\n",
    "            ),\n",
    "            command=code_to_run,\n",
    "            gpu_count=gpu_count,\n",
    "            gpu_type='CUDA_8_0',\n",
    "            gpu_max_ram=75000,\n",
    "            max_disk=512000,\n",
    "            max_ram=250000,\n",
    "            cpu_guarantee=12000,\n",
    "            ttl=2880,\n",
    "        )\n",
    "\n",
    "    keeper = vh.run(\n",
    "        graph=g,\n",
    "        oauth_token=nirvana_token,\n",
    "        quota='yr-other',\n",
    "        workflow_guid=workflow_guid,\n",
    "        description=comment,\n",
    "        start=False,\n",
    "    )\n",
    "    info = keeper.get_workflow_info()\n",
    "    NIRVANA_API.edit_workflow(\n",
    "        workflow_id=info.workflow_id,\n",
    "        workflow_instance_id=info.workflow_instance_id,\n",
    "        execution_params={'workflowPriority': priority},\n",
    "    )\n",
    "    NIRVANA_API.start_workflow(\n",
    "        workflow_id=info.workflow_id, workflow_instance_id=info.workflow_instance_id\n",
    "    )"
   ]
  },
  {
   "cell_type": "code",
   "execution_count": 9,
   "id": "3067feed-9818-42d7-b3ac-13e5bf0834e5",
   "metadata": {},
   "outputs": [],
   "source": [
    "euler = \"http://euler.sas.yp-c.yandex.net:6953\"\n",
    "WORKFLOW_ID = \"eaa6aef4-537a-4c55-90e0-726cb70a84ed\"\n",
    "NIRVANA_TOKEN = 'y1_AQAD-qJSL8cVAAACjwAAAAAALtHJ7r7d6v_eQ_qBqVSetJvGYbeoWpQ'\n",
    "\n",
    "SSH_SECRET = \"eccdsa_notantonkey\""
   ]
  },
  {
   "cell_type": "code",
   "execution_count": 7,
   "id": "90e06ff9-0548-44ed-809e-14417bd70e47",
   "metadata": {},
   "outputs": [
    {
     "ename": "NameError",
     "evalue": "name 'data_id' is not defined",
     "output_type": "error",
     "traceback": [
      "\u001b[0;31m---------------------------------------------------------------------------\u001b[0m",
      "\u001b[0;31mNameError\u001b[0m                                 Traceback (most recent call last)",
      "Cell \u001b[0;32mIn[7], line 35\u001b[0m\n\u001b[1;32m     19\u001b[0m command \u001b[38;5;241m=\u001b[39m (\u001b[38;5;124m\"\u001b[39m\u001b[38;5;124m$PYTHON_CMD train.py --n_gpu 8 --use_demonstrations --task hr_to_lr --k 16384 --test_k 16 --seed 100 \u001b[39m\u001b[38;5;124m\"\u001b[39m\n\u001b[1;32m     20\u001b[0m            \u001b[38;5;124mf\u001b[39m\u001b[38;5;124m\"\u001b[39m\u001b[38;5;124m--method channel --train_seed 1 --batch_size \u001b[39m\u001b[38;5;132;01m{\u001b[39;00mbatch_size\u001b[38;5;132;01m}\u001b[39;00m\u001b[38;5;124m --lr \u001b[39m\u001b[38;5;132;01m{\u001b[39;00mlr\u001b[38;5;132;01m}\u001b[39;00m\u001b[38;5;124m --fp16 \u001b[39m\u001b[38;5;124m\"\u001b[39m\n\u001b[1;32m     21\u001b[0m            \u001b[38;5;124m\"\u001b[39m\u001b[38;5;124m--out_dir $SNAPSHOT_PATH/checkpoints/channel-metaicl-llama_2_7b/hr_to_lr \u001b[39m\u001b[38;5;124m\"\u001b[39m\n\u001b[1;32m     22\u001b[0m            \u001b[38;5;124m\"\u001b[39m\u001b[38;5;124m--gpt2 meta-llama/Llama-2-7b-hf --tensorize_dir $INPUT_PATH/tensorized_llama_fix_eos/ --optimization 8bit-adam\u001b[39m\u001b[38;5;124m\"\u001b[39m\n\u001b[1;32m     23\u001b[0m           )\n\u001b[1;32m     25\u001b[0m comment \u001b[38;5;241m=\u001b[39m \u001b[38;5;124mf\u001b[39m\u001b[38;5;124m\"\u001b[39m\u001b[38;5;124mmetaicl_train_llama2-7b_bs-\u001b[39m\u001b[38;5;132;01m{\u001b[39;00mbatch_size\u001b[38;5;132;01m}\u001b[39;00m\u001b[38;5;124m_lr-\u001b[39m\u001b[38;5;132;01m{\u001b[39;00mlr\u001b[38;5;132;01m}\u001b[39;00m\u001b[38;5;124m_ngpu_\u001b[39m\u001b[38;5;132;01m{\u001b[39;00mn_gpu\u001b[38;5;132;01m}\u001b[39;00m\u001b[38;5;124m\"\u001b[39m\n\u001b[1;32m     27\u001b[0m run_graph(\n\u001b[1;32m     28\u001b[0m     WORKFLOW_ID,\n\u001b[1;32m     29\u001b[0m     comment\u001b[38;5;241m=\u001b[39mcomment,\n\u001b[1;32m     30\u001b[0m     priority\u001b[38;5;241m=\u001b[39m\u001b[38;5;124m\"\u001b[39m\u001b[38;5;124mnormal\u001b[39m\u001b[38;5;124m\"\u001b[39m,\n\u001b[1;32m     31\u001b[0m     nirvana_token\u001b[38;5;241m=\u001b[39mNIRVANA_TOKEN,\n\u001b[1;32m     32\u001b[0m     ssh_secret\u001b[38;5;241m=\u001b[39mSSH_SECRET,\n\u001b[1;32m     33\u001b[0m     code_to_run\u001b[38;5;241m=\u001b[39mCODE_PRELUDE \u001b[38;5;241m+\u001b[39m command,\n\u001b[1;32m     34\u001b[0m     gpu_count\u001b[38;5;241m=\u001b[39mn_gpu,\n\u001b[0;32m---> 35\u001b[0m     data_id\u001b[38;5;241m=\u001b[39m\u001b[43mdata_id\u001b[49m\n\u001b[1;32m     36\u001b[0m )\n",
      "\u001b[0;31mNameError\u001b[0m: name 'data_id' is not defined"
     ]
    }
   ],
   "source": [
    "CODE_PRELUDE = f\"\"\"set -euxo pipefail\n",
    "export {{http,https,ftp}}_proxy=\"http://euler.sas.yp-c.yandex.net:6953\"\n",
    "\n",
    "export MAMBA_ROOT_PREFIX=\"/micromamba\"\n",
    "export PYTHON_MAIN_ENV=$MAMBA_ROOT_PREFIX/envs/main\n",
    "export PATH=$PATH:$PYTHON_MAIN_ENV/bin\n",
    "export PYTHON_CMD=$PYTHON_MAIN_ENV/bin/python\n",
    "export YT_PROXY=hahn.yt.yandex.net\n",
    "export WANDB_API_KEY=\"49a175fa5aba376a381ff86821b8f183b3fc8fa3\"\n",
    "\n",
    "$PYTHON_CMD -m pip install transformers wandb bitsandbytes\n",
    "export TRANSFORMERS_CACHE=$INPUT_PATH\n",
    "\n",
    "cd $SOURCE_CODE_PATH/MetaICL\n",
    "\"\"\"\n",
    "n_gpu = 2\n",
    "batch_size = 2\n",
    "lr = 1e-05\n",
    "command = (\"$PYTHON_CMD train.py --n_gpu 8 --use_demonstrations --task hr_to_lr --k 16384 --test_k 16 --seed 100 \"\n",
    "           f\"--method channel --train_seed 1 --batch_size {batch_size} --lr {lr} --fp16 \"\n",
    "           \"--out_dir $SNAPSHOT_PATH/checkpoints/channel-metaicl-llama_2_7b/hr_to_lr \"\n",
    "           \"--gpt2 meta-llama/Llama-2-7b-hf --tensorize_dir $INPUT_PATH/tensorized_llama_fix_eos/ --optimization 8bit-adam\"\n",
    "          )\n",
    "\n",
    "comment = f\"metaicl_train_llama2-7b_bs-{batch_size}_lr-{lr}_ngpu_{n_gpu}\"\n",
    "\n",
    "run_graph(\n",
    "    WORKFLOW_ID,\n",
    "    comment=comment,\n",
    "    priority=\"normal\",\n",
    "    nirvana_token=NIRVANA_TOKEN,\n",
    "    ssh_secret=SSH_SECRET,\n",
    "    code_to_run=CODE_PRELUDE + command,\n",
    "    gpu_count=n_gpu,\n",
    ")"
   ]
  },
  {
   "cell_type": "code",
   "execution_count": null,
   "id": "313d8f41-5e61-46f2-8679-f5641717c251",
   "metadata": {},
   "outputs": [],
   "source": []
  }
 ],
 "metadata": {
  "kernelspec": {
   "display_name": "Python 3 (ipykernel)",
   "language": "python",
   "name": "python3"
  },
  "language_info": {
   "codemirror_mode": {
    "name": "ipython",
    "version": 3
   },
   "file_extension": ".py",
   "mimetype": "text/x-python",
   "name": "python",
   "nbconvert_exporter": "python",
   "pygments_lexer": "ipython3",
   "version": "3.8.18"
  }
 },
 "nbformat": 4,
 "nbformat_minor": 5
}
